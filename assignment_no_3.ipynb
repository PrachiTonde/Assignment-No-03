{
  "nbformat": 4,
  "nbformat_minor": 0,
  "metadata": {
    "colab": {
      "provenance": []
    },
    "kernelspec": {
      "name": "python3",
      "display_name": "Python 3"
    },
    "language_info": {
      "name": "python"
    }
  },
  "cells": [
    {
      "cell_type": "code",
      "execution_count": null,
      "metadata": {
        "colab": {
          "base_uri": "https://localhost:8080/"
        },
        "id": "7Gr-Kbn-JLY8",
        "outputId": "cf763e08-35db-4ea2-cf87-e6b7f91a6b82"
      },
      "outputs": [
        {
          "output_type": "stream",
          "name": "stdout",
          "text": [
            "Enter the value of design speed: 65\n",
            "Enter the value of Radius of curvature: 220\n",
            "Enter the value of slope: 150\n",
            "Enter the value of width of road including extra widening: 7.5\n",
            "'enter the value for plain terain:0.07\n",
            "The value of Super elevation: 0.08535353535353535\n",
            "0.07\n",
            "The length of transition curve: 39.37500000000001\n"
          ]
        }
      ],
      "source": [
        "#To Calculate the length of transition curve\n",
        "V= int(input(\"Enter the value of design speed: \"))\n",
        "R= int(input(\"Enter the value of Radius of curvature: \"))\n",
        "N= int(input(\"Enter the value of slope: \"))\n",
        "W= float(input(\"Enter the value of width of road including extra widening: \"))\n",
        "emax=float(input(\"'enter the value for plain terain:\"))\n",
        "ecal= (V*V/(225*R))\n",
        "print(\"The value of Super elevation:\",ecal)\n",
        "if ecal<emax: #removed extra space before if\n",
        "    print(ecal) #added 4 spaces of indentation\n",
        "else: #removed extra space before else\n",
        "    print(emax) #added 4 spaces of indentation\n",
        "Ls=(emax*N*W/2)\n",
        "print(\"The length of transition curve:\", Ls)"
      ]
    }
  ]
}